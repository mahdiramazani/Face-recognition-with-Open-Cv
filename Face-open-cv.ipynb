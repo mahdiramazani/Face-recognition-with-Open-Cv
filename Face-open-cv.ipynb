{
 "cells": [
  {
   "cell_type": "code",
   "execution_count": 1,
   "id": "ceda416d",
   "metadata": {},
   "outputs": [],
   "source": [
    "import cv2\n",
    "import numpy"
   ]
  },
  {
   "cell_type": "code",
   "execution_count": 2,
   "id": "b1e072a1",
   "metadata": {},
   "outputs": [],
   "source": [
    "img=cv2.imread(\"./face-600x900.png\")"
   ]
  },
  {
   "cell_type": "code",
   "execution_count": 4,
   "id": "74585944",
   "metadata": {},
   "outputs": [],
   "source": [
    "cv2.imshow(\"Face\",img)\n",
    "cv2.waitKey(0)\n",
    "cv2.destroyAllWindows()"
   ]
  },
  {
   "cell_type": "code",
   "execution_count": 6,
   "id": "fc5ec939",
   "metadata": {},
   "outputs": [
    {
     "data": {
      "text/plain": [
       "(600, 900, 3)"
      ]
     },
     "execution_count": 6,
     "metadata": {},
     "output_type": "execute_result"
    }
   ],
   "source": [
    "img.shape"
   ]
  },
  {
   "cell_type": "code",
   "execution_count": 13,
   "id": "783c2142",
   "metadata": {},
   "outputs": [],
   "source": [
    "new_image=img[0:10,0:10]"
   ]
  },
  {
   "cell_type": "code",
   "execution_count": 14,
   "id": "84b62f75",
   "metadata": {},
   "outputs": [],
   "source": [
    "cv2.imshow(\"Face2\",new_image)\n",
    "cv2.waitKey(0)\n",
    "cv2.destroyAllWindows()"
   ]
  },
  {
   "cell_type": "code",
   "execution_count": 15,
   "id": "72e41728",
   "metadata": {},
   "outputs": [],
   "source": [
    "def display(win_name,img):\n",
    "    \n",
    "    cv2.imshow(win_name,img)\n",
    "    cv2.waitKey(0)\n",
    "    cv2.destroyAllWindows()"
   ]
  },
  {
   "cell_type": "code",
   "execution_count": null,
   "id": "fb32436f",
   "metadata": {},
   "outputs": [],
   "source": [
    "display(\"Face_3\",img)"
   ]
  },
  {
   "cell_type": "code",
   "execution_count": null,
   "id": "07522a58",
   "metadata": {},
   "outputs": [],
   "source": []
  }
 ],
 "metadata": {
  "kernelspec": {
   "display_name": "Python 3 (ipykernel)",
   "language": "python",
   "name": "python3"
  },
  "language_info": {
   "codemirror_mode": {
    "name": "ipython",
    "version": 3
   },
   "file_extension": ".py",
   "mimetype": "text/x-python",
   "name": "python",
   "nbconvert_exporter": "python",
   "pygments_lexer": "ipython3",
   "version": "3.11.2"
  }
 },
 "nbformat": 4,
 "nbformat_minor": 5
}
