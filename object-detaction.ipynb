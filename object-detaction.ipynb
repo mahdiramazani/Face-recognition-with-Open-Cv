{
 "cells": [
  {
   "cell_type": "code",
   "execution_count": 1,
   "id": "3645b42f",
   "metadata": {},
   "outputs": [],
   "source": [
    "import cv2\n",
    "import numpy as np"
   ]
  },
  {
   "cell_type": "code",
   "execution_count": 16,
   "id": "4c7810e2",
   "metadata": {},
   "outputs": [],
   "source": [
    "image=cv2.imread(\"./images/ronaldo.JPG\")"
   ]
  },
  {
   "cell_type": "code",
   "execution_count": 17,
   "id": "1e22f080",
   "metadata": {},
   "outputs": [],
   "source": [
    "cv2.imshow(\"Navid\",image)\n",
    "cv2.waitKey(0)\n",
    "cv2.destroyAllWindows()"
   ]
  },
  {
   "cell_type": "code",
   "execution_count": 6,
   "id": "185c2798",
   "metadata": {},
   "outputs": [],
   "source": [
    "#load cascade clasifier"
   ]
  },
  {
   "cell_type": "code",
   "execution_count": 18,
   "id": "cda42db2",
   "metadata": {},
   "outputs": [],
   "source": [
    "face_cascade=cv2.CascadeClassifier(\"./heer-algoritm/haarcascade_smile.xml\")"
   ]
  },
  {
   "cell_type": "code",
   "execution_count": 19,
   "id": "c5e9711f",
   "metadata": {},
   "outputs": [],
   "source": [
    "#aply cascade calssfire to on image"
   ]
  },
  {
   "cell_type": "code",
   "execution_count": 20,
   "id": "91611e8c",
   "metadata": {},
   "outputs": [],
   "source": [
    "face,number_of_detaction=face_cascade.detectMultiScale2(image)"
   ]
  },
  {
   "cell_type": "code",
   "execution_count": 23,
   "id": "32442e81",
   "metadata": {},
   "outputs": [
    {
     "ename": "error",
     "evalue": "OpenCV(4.7.0) D:/a/opencv-python/opencv-python/opencv/modules/highgui/src/precomp.hpp:155: error: (-215:Assertion failed) src_depth != CV_16F && src_depth != CV_32S in function 'convertToShow'\n",
     "output_type": "error",
     "traceback": [
      "\u001b[1;31m---------------------------------------------------------------------------\u001b[0m",
      "\u001b[1;31merror\u001b[0m                                     Traceback (most recent call last)",
      "Cell \u001b[1;32mIn[23], line 1\u001b[0m\n\u001b[1;32m----> 1\u001b[0m \u001b[43mcv2\u001b[49m\u001b[38;5;241;43m.\u001b[39;49m\u001b[43mimshow\u001b[49m\u001b[43m(\u001b[49m\u001b[38;5;124;43m\"\u001b[39;49m\u001b[38;5;124;43mNavid\u001b[39;49m\u001b[38;5;124;43m\"\u001b[39;49m\u001b[43m,\u001b[49m\u001b[43mface\u001b[49m\u001b[43m)\u001b[49m\n\u001b[0;32m      2\u001b[0m cv2\u001b[38;5;241m.\u001b[39mwaitKey(\u001b[38;5;241m0\u001b[39m)\n\u001b[0;32m      3\u001b[0m cv2\u001b[38;5;241m.\u001b[39mdestroyAllWindows()\n",
      "\u001b[1;31merror\u001b[0m: OpenCV(4.7.0) D:/a/opencv-python/opencv-python/opencv/modules/highgui/src/precomp.hpp:155: error: (-215:Assertion failed) src_depth != CV_16F && src_depth != CV_32S in function 'convertToShow'\n"
     ]
    }
   ],
   "source": [
    "cv2.imshow(\"Navid\",face)\n",
    "cv2.waitKey(0)\n",
    "cv2.destroyAllWindows()"
   ]
  },
  {
   "cell_type": "code",
   "execution_count": 22,
   "id": "846b0f96",
   "metadata": {},
   "outputs": [
    {
     "name": "stdout",
     "output_type": "stream",
     "text": [
      "[  4 709  28   9  13  18  19  13  26   8   4   9   4   4  15  12   5  24\n",
      "   4]\n"
     ]
    }
   ],
   "source": [
    "print(number_of_detaction)"
   ]
  },
  {
   "cell_type": "code",
   "execution_count": null,
   "id": "7559158c",
   "metadata": {},
   "outputs": [],
   "source": []
  }
 ],
 "metadata": {
  "kernelspec": {
   "display_name": "Python 3 (ipykernel)",
   "language": "python",
   "name": "python3"
  },
  "language_info": {
   "codemirror_mode": {
    "name": "ipython",
    "version": 3
   },
   "file_extension": ".py",
   "mimetype": "text/x-python",
   "name": "python",
   "nbconvert_exporter": "python",
   "pygments_lexer": "ipython3",
   "version": "3.11.2"
  }
 },
 "nbformat": 4,
 "nbformat_minor": 5
}
